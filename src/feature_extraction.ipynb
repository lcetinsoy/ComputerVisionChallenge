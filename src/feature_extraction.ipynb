{
 "cells": [
  {
   "cell_type": "code",
   "execution_count": 2,
   "metadata": {
    "collapsed": false
   },
   "outputs": [],
   "source": [
    "--  Copyright (c) 2015, Omkar M. Parkhi\n",
    "--  All rights reserved.\n",
    "require 'torch'\n",
    "require 'image'\n",
    "require 'nn'\n",
    "net = torch.load('./VGG_FACE.t7')\n",
    "net:evaluate()\n"
   ]
  },
  {
   "cell_type": "code",
   "execution_count": 3,
   "metadata": {
    "collapsed": false
   },
   "outputs": [],
   "source": [
    "\n",
    "net.modules[35] = nil \n",
    "net.modules[36] = nil \n",
    "net.modules[37] = nil \n",
    "net.modules[38] = nil \n",
    "net.modules[39] = nil \n",
    "net.modules[40] = nil \n",
    "collectgarbage()\n",
    "net:evaluate()"
   ]
  },
  {
   "cell_type": "code",
   "execution_count": 9,
   "metadata": {
    "collapsed": false
   },
   "outputs": [],
   "source": [
    "csvfile = require \"simplecsv\"\n",
    "input = csvfile.read('../output/cleaned.csv') -- read file csv1.txt to matrix m\n",
    "\n"
   ]
  },
  {
   "cell_type": "code",
   "execution_count": 7,
   "metadata": {
    "collapsed": false
   },
   "outputs": [
    {
     "data": {
      "text/plain": [
       "{\n",
       "  1 : 0\n",
       "  2 : Sami Jahoj\\xe4rvi\n",
       "  3 : 1981-05-05\n",
       "  4 : 2009\n",
       "  5 : 4.30096238833\n",
       "  6 : 17/10000217_1981-05-05_2009.jpg\n",
       "  7 : 28\n",
       "}\n"
      ]
     },
     "execution_count": 7,
     "metadata": {},
     "output_type": "execute_result"
    }
   ],
   "source": [
    "input[2]"
   ]
  },
  {
   "cell_type": "code",
   "execution_count": 8,
   "metadata": {
    "collapsed": false
   },
   "outputs": [
    {
     "data": {
      "text/plain": [
       "{\n",
       "  1 : 20\n",
       "  2 : \"Thomas Midgley\n",
       "  3 :  Jr.\"\n",
       "  4 : 1889-05-19\n",
       "  5 : 1940\n",
       "  6 : 2.99263638655\n",
       "  7 : 87/100087_1889-05-19_1940.jpg\n",
       "  8 : 51\n",
       "}\n"
      ]
     },
     "execution_count": 8,
     "metadata": {},
     "output_type": "execute_result"
    }
   ],
   "source": [
    "input[16]"
   ]
  },
  {
   "cell_type": "code",
   "execution_count": null,
   "metadata": {
    "collapsed": false
   },
   "outputs": [
    {
     "data": {
      "text/plain": [
       "{\n",
       "}\n",
       "0\t\n"
      ]
     },
     "execution_count": 10,
     "metadata": {},
     "output_type": "execute_result"
    }
   ],
   "source": [
    "function table.shallow_copy(t)\n",
    "  local t2 = {}\n",
    "  \n",
    "  for i=1, 4096 do\n",
    "    t2[#t2 + 1] = t[i]\n",
    "  end\n",
    "  return t2\n",
    "end\n",
    "\n",
    "\n",
    "output=nil\n",
    "output={}\n",
    "path=\"/home/nawel/Downloads/wiki/wiki_crop/\"\n",
    "print(output, #output)\n",
    "for i=2,#input do \n",
    "    im=nil\n",
    "    im_scaled=nil\n",
    "    im_bgr=nil\n",
    "    features=nil\n",
    "    \n",
    "    im=image.load(path .. input[i][5],3,'float')\n",
    "\n",
    "    im_scaled = image.scale(im,\"224x224\")\n",
    "    im_scaled = im_scaled*255\n",
    "\n",
    "    mean = {129.1863,104.7624,93.5940}\n",
    "    im_bgr = im_scaled:index(1,torch.LongTensor{3,2,1})\n",
    "    for h=1,3 do im_bgr[h]:add(-mean[h]) end\n",
    "    features=net(im_bgr)\n",
    "\n",
    "    --table.insert(output, features )--output[i-1]=net(im_bgr)\n",
    "    output[#output + 1] = table.shallow_copy(features)\n",
    "    --print(#output, output, features[1], features[545])\n",
    "end"
   ]
  },
  {
   "cell_type": "code",
   "execution_count": null,
   "metadata": {
    "collapsed": false
   },
   "outputs": [],
   "source": []
  },
  {
   "cell_type": "code",
   "execution_count": null,
   "metadata": {
    "collapsed": false
   },
   "outputs": [],
   "source": [
    "output[1]==output[2]"
   ]
  },
  {
   "cell_type": "code",
   "execution_count": null,
   "metadata": {
    "collapsed": false
   },
   "outputs": [],
   "source": [
    "csvfile.write('./output.csv', output)"
   ]
  },
  {
   "cell_type": "code",
   "execution_count": null,
   "metadata": {
    "collapsed": true
   },
   "outputs": [],
   "source": [
    "im = image.load('./ak.png',3,'float')"
   ]
  },
  {
   "cell_type": "code",
   "execution_count": null,
   "metadata": {
    "collapsed": false
   },
   "outputs": [],
   "source": [
    "im_scaled = image.scale(im,\"224x224\")\n",
    "im_scaled = im_scaled*255\n",
    "\n",
    "mean = {129.1863,104.7624,93.5940}\n",
    "im_bgr = im_scaled:index(1,torch.LongTensor{3,2,1})\n",
    "for i=1,3 do im_bgr[i]:add(-mean[i]) end\n",
    "itorch.image(im_scaled)\n",
    "for i=1,3 do im_scaled[i]:add(-mean[i]) end\n",
    "itorch.image(im_scaled)\n",
    "itorch.image(im_bgr)\n",
    "\n"
   ]
  },
  {
   "cell_type": "code",
   "execution_count": null,
   "metadata": {
    "collapsed": false
   },
   "outputs": [],
   "source": [
    "print(im_bgr:size())"
   ]
  },
  {
   "cell_type": "code",
   "execution_count": null,
   "metadata": {
    "collapsed": false
   },
   "outputs": [],
   "source": [
    "\n",
    "\n",
    "im_bgr[{{},1,1}]\n",
    "\n"
   ]
  },
  {
   "cell_type": "code",
   "execution_count": null,
   "metadata": {
    "collapsed": false
   },
   "outputs": [],
   "source": [
    "\n",
    "net.modules[35] = nil \n",
    "net.modules[36] = nil \n",
    "net.modules[37] = nil \n",
    "net.modules[38] = nil \n",
    "net.modules[39] = nil \n",
    "net.modules[40] = nil \n",
    "collectgarbage()\n",
    "net:evaluate()\n",
    "prob = nil\n",
    "prob = net(im_bgr)\n",
    "print(prob:size())\n",
    "print(prob[{1}])"
   ]
  },
  {
   "cell_type": "code",
   "execution_count": null,
   "metadata": {
    "collapsed": true
   },
   "outputs": [],
   "source": [
    "a[1]=prob"
   ]
  },
  {
   "cell_type": "code",
   "execution_count": null,
   "metadata": {
    "collapsed": false
   },
   "outputs": [],
   "source": []
  }
 ],
 "metadata": {
  "kernelspec": {
   "display_name": "iTorch",
   "language": "lua",
   "name": "itorch"
  },
  "language_info": {
   "name": "lua",
   "version": "5.2"
  }
 },
 "nbformat": 4,
 "nbformat_minor": 1
}
